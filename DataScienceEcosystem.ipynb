{
 "cells": [
  {
   "cell_type": "markdown",
   "id": "1449a14f-5633-4d71-9319-4e7233012501",
   "metadata": {
    "tags": []
   },
   "source": [
    "<h1>Data Science Tools and Ecosystem</h1>"
   ]
  },
  {
   "cell_type": "markdown",
   "id": "f6cf57dc-e87e-43ec-8236-5033d076287f",
   "metadata": {},
   "source": [
    "In this notebook, Data Science Tools and Ecosystem are summarized."
   ]
  },
  {
   "cell_type": "markdown",
   "id": "e06bae4c-2de5-44dc-bf6a-2a70dd186dbf",
   "metadata": {},
   "source": [
    "<b>Objectives:</b>\n",
    "<ul><li>List popular languages that Data Scientists use</li>\n",
    "    <li>List commonly used libraries used by Data Scientists</li>\n",
    "    <li>Create a table with Data Science tools</li>\n",
    "    <li>Create examples of arithmetic expressions</li>\n",
    "</ul>\n",
    "    "
   ]
  },
  {
   "cell_type": "markdown",
   "id": "b08d0b9f-4651-4990-8f47-b91513ab9684",
   "metadata": {},
   "source": [
    "Some of the popular languages that Data Scientists use are:\n",
    "  <ol>  <li>PYTHON</li>\n",
    "    <li>JAVA</li>\n",
    "    <li>R</li>\n",
    "</ol>"
   ]
  },
  {
   "cell_type": "markdown",
   "id": "142e1db1-23df-4af2-8524-c60026ffb066",
   "metadata": {},
   "source": [
    "Some of the commonly used libraries used by Data Scientists include:\n",
    "<ol>\n",
    "    <li>Pandas</li>\n",
    "    <li>NumPy</li>\n",
    "    <li>SciPy</li>\n",
    "    </ol>"
   ]
  },
  {
   "cell_type": "markdown",
   "id": "1b165550-80aa-4bd1-983e-c77779a9aaea",
   "metadata": {},
   "source": [
    "<table>\n",
    "    <tr><th>Data Science Tools</th></tr>\n",
    "    <tr><td>JupyterNotebook</td></tr>\n",
    "    <tr><td>R Studio</td></tr>\n",
    "    <tr><td>Python</td></tr>\n",
    "    </table>"
   ]
  },
  {
   "cell_type": "markdown",
   "id": "87acdf92-27fb-49a1-bfd2-482098fd7b3c",
   "metadata": {},
   "source": [
    "<h3>Below are a few examples of evaluating arithmetic expressions in Python.</h3>"
   ]
  },
  {
   "cell_type": "code",
   "execution_count": 1,
   "id": "31e34d49-b05f-4685-898b-2b434bac0e6b",
   "metadata": {
    "tags": []
   },
   "outputs": [
    {
     "data": {
      "text/plain": [
       "17"
      ]
     },
     "execution_count": 1,
     "metadata": {},
     "output_type": "execute_result"
    }
   ],
   "source": [
    "#This a simple arithmetic expression to mutiply then add integers\n",
    "(3*4)+5"
   ]
  },
  {
   "cell_type": "code",
   "execution_count": 4,
   "id": "112c27f7-1433-427b-9919-db7c0204d354",
   "metadata": {
    "tags": []
   },
   "outputs": [
    {
     "data": {
      "text/plain": [
       "3.3333333333333335"
      ]
     },
     "execution_count": 4,
     "metadata": {},
     "output_type": "execute_result"
    }
   ],
   "source": [
    "#This will convert 200 minutes to hours by diving by 60\n",
    "200/60"
   ]
  },
  {
   "cell_type": "markdown",
   "id": "5a1ba033-d845-4ac4-9e16-8af326c505a9",
   "metadata": {},
   "source": [
    "<H2>Author</H2>\n",
    "Joe Uren"
   ]
  }
 ],
 "metadata": {
  "kernelspec": {
   "display_name": "Python",
   "language": "python",
   "name": "conda-env-python-py"
  },
  "language_info": {
   "codemirror_mode": {
    "name": "ipython",
    "version": 3
   },
   "file_extension": ".py",
   "mimetype": "text/x-python",
   "name": "python",
   "nbconvert_exporter": "python",
   "pygments_lexer": "ipython3",
   "version": "3.7.12"
  }
 },
 "nbformat": 4,
 "nbformat_minor": 5
}
